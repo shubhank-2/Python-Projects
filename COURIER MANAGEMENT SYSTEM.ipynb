{
 "cells": [
  {
   "cell_type": "markdown",
   "id": "aaafb079",
   "metadata": {},
   "source": [
    "## Q1. Create a Dictionary of lists to store the information of shipments given in the table"
   ]
  },
  {
   "cell_type": "code",
   "execution_count": 7,
   "id": "dd602904",
   "metadata": {},
   "outputs": [
    {
     "name": "stdout",
     "output_type": "stream",
     "text": [
      "{101: [1, 3, '14-03-2020', '25-03-2020', 'Area1', 'Area6', 'Delivered', 198], 102: [4, 1, '18-06-2020', '09-07-2020', 'Area2', 'Area4', 'Delivered', 275], 103: [2, 3, '01-12-2020', 'Null', 'Area5', 'Area1', 'In-Transit', 200], 104: [1, 5, '23-06-2020', '25-06-2020', 'Area1', 'Area4', 'Delivered', 314], 105: [3, 4, '29-08-2020', '10-09-2020', 'Area5', 'Area3', 'Delivered', 275], 106: [5, 2, '28-06-2020', 'Null', 'Area3', 'Area1', 'In-Transit', 270]}\n"
     ]
    }
   ],
   "source": [
    "shipment ={\n",
    " 101 : [1,3,'14-03-2020','25-03-2020','Area1','Area6','Delivered',198],\n",
    "    \n",
    " 102 : [4,1,'18-06-2020','09-07-2020','Area2','Area4','Delivered',275],\n",
    "    \n",
    " 103 : [2,3,'01-12-2020','Null','Area5','Area1','In-Transit',200],\n",
    "    \n",
    " 104 : [1,5,'23-06-2020','25-06-2020','Area1','Area4','Delivered',314],\n",
    "    \n",
    " 105 : [3,4,'29-08-2020','10-09-2020','Area5','Area3','Delivered',275],\n",
    "\n",
    " 106 : [5,2,'28-06-2020','Null','Area3','Area1','In-Transit',270]\n",
    "         }\n",
    "\n",
    "print(shipment)\n",
    "    \n",
    "#  'Sender'           :[1,4,2,1,3,5],\n",
    "#  'Receiver'         :[3,1,3,5,4,2],\n",
    "#  'Start Date'       :['14-03-2020','18-06-2020','01-12-2020','23-06-2020','29-08-2020','28-06-2020'],\n",
    "#  'Delivery Date'    :['25-03-2020','09-07-2020','Null','25-06-2020','10-09-2020','Null'],\n",
    "#  'Sender_location'  :['Area1','Area2','Area5','Area1','Area5','Area3'],  \n",
    "#  'Receiver_location':['Area6','Area4','Area1','Area4','Area3','Area1'],\n",
    "#  'Delivery status'  :['Delivered','Delivered','In-Transit','Delivered','Delivered','In-Transit'],\n",
    "#  'Shipping Cost'    :[198,275,200,314,275,270,]}"
   ]
  },
  {
   "cell_type": "code",
   "execution_count": 8,
   "id": "9949884d",
   "metadata": {},
   "outputs": [
    {
     "data": {
      "text/plain": [
       "{101: [1, 3, '14-03-2020', '25-03-2020', 'Area1', 'Area6', 'Delivered', 198],\n",
       " 102: [4, 1, '18-06-2020', '09-07-2020', 'Area2', 'Area4', 'Delivered', 275],\n",
       " 103: [2, 3, '01-12-2020', 'Null', 'Area5', 'Area1', 'In-Transit', 200],\n",
       " 104: [1, 5, '23-06-2020', '25-06-2020', 'Area1', 'Area4', 'Delivered', 314],\n",
       " 105: [3, 4, '29-08-2020', '10-09-2020', 'Area5', 'Area3', 'Delivered', 275],\n",
       " 106: [5, 2, '28-06-2020', 'Null', 'Area3', 'Area1', 'In-Transit', 270]}"
      ]
     },
     "execution_count": 8,
     "metadata": {},
     "output_type": "execute_result"
    }
   ],
   "source": [
    "shipment"
   ]
  },
  {
   "cell_type": "markdown",
   "id": "b7ec6532",
   "metadata": {},
   "source": [
    "## Q2. Create a Dictionary of to store the information of clients given in the table"
   ]
  },
  {
   "cell_type": "code",
   "execution_count": 9,
   "id": "e272c78f",
   "metadata": {},
   "outputs": [
    {
     "data": {
      "text/plain": [
       "{1: 'Phillip', 2: 'Omega III', 3: 'Ramya', 4: 'Romesh', 5: 'John'}"
      ]
     },
     "execution_count": 9,
     "metadata": {},
     "output_type": "execute_result"
    }
   ],
   "source": [
    "# client information in the form of dictionary\n",
    "client_info = {\n",
    "    1 : 'Phillip',\n",
    "    2 : 'Omega III',\n",
    "    3 : 'Ramya',\n",
    "    4 : 'Romesh',\n",
    "    5 : 'John'\n",
    "              }\n",
    "client_info"
   ]
  },
  {
   "cell_type": "markdown",
   "id": "1978d808",
   "metadata": {},
   "source": [
    "## Q3. Write a code to replace client’s id with their respective name in shipment dictionary using a loop and dictionary comprehension"
   ]
  },
  {
   "cell_type": "code",
   "execution_count": 10,
   "id": "c273ea7d",
   "metadata": {},
   "outputs": [
    {
     "data": {
      "text/plain": [
       "[4, 1, '18-06-2020', '09-07-2020', 'Area2', 'Area4', 'Delivered', 275]"
      ]
     },
     "execution_count": 10,
     "metadata": {},
     "output_type": "execute_result"
    }
   ],
   "source": [
    "# # when you mention the shipment id you can see we can only see the id's of the sender d and receiver\n",
    "shipment[102]"
   ]
  },
  {
   "cell_type": "markdown",
   "id": "89ca2953",
   "metadata": {},
   "source": [
    "### 1. USING FOR LOOP"
   ]
  },
  {
   "cell_type": "code",
   "execution_count": 6,
   "id": "3aadfd18",
   "metadata": {},
   "outputs": [
    {
     "name": "stdout",
     "output_type": "stream",
     "text": [
      "{101: ['Phillip', 'Ramya', '14-03-2020', '25-03-2020', 'Area1', 'Area6', 'Delivered', 198], 102: ['Romesh', 'Phillip', '18-06-2020', '09-07-2020', 'Area2', 'Area4', 'Delivered', 275], 103: ['Omega III', 'Ramya', '01-12-2020', 'Null', 'Area5', 'Area1', 'In-Transit', 200], 104: ['Phillip', 'John', '23-06-2020', '25-06-2020', 'Area1', 'Area4', 'Delivered', 314], 105: ['Ramya', 'Romesh', '29-08-2020', '10-09-2020', 'Area5', 'Area3', 'Delivered', 275], 106: ['John', 'Omega III', '28-06-2020', 'Null', 'Area3', 'Area1', 'In-Transit', 270]}\n"
     ]
    }
   ],
   "source": [
    "# now changing the values of shipment id to there names\n",
    "# sender and receiver are at index (o,1) respectively\n",
    "\n",
    "for i in range(101,107):\n",
    "    a = shipment[i][0]\n",
    "    if a in client_info:\n",
    "        shipment[i][0] = client_info[a]\n",
    "        \n",
    "    b = shipment[i][1]\n",
    "    if b in client_info:\n",
    "        shipment[i][1] = client_info[b]\n",
    "print(shipment)"
   ]
  },
  {
   "cell_type": "markdown",
   "id": "7e2585cc",
   "metadata": {},
   "source": [
    "### 2. DICTIONARY COMPREHENSION"
   ]
  },
  {
   "cell_type": "code",
   "execution_count": 27,
   "id": "1a0877f3",
   "metadata": {},
   "outputs": [
    {
     "data": {
      "text/plain": [
       "{101: [1, 3, '14-03-2020', '25-03-2020', 'Area1', 'Area6', 'Delivered', 198],\n",
       " 102: [4, 1, '18-06-2020', '09-07-2020', 'Area2', 'Area4', 'Delivered', 275],\n",
       " 103: [2, 3, '01-12-2020', 'Null', 'Area5', 'Area1', 'In-Transit', 200],\n",
       " 104: [1, 5, '23-06-2020', '25-06-2020', 'Area1', 'Area4', 'Delivered', 314],\n",
       " 105: [3, 4, '29-08-2020', '10-09-2020', 'Area5', 'Area3', 'Delivered', 275],\n",
       " 106: [5, 2, '28-06-2020', 'Null', 'Area3', 'Area1', 'In-Transit', 270]}"
      ]
     },
     "execution_count": 27,
     "metadata": {},
     "output_type": "execute_result"
    }
   ],
   "source": [
    "shipment"
   ]
  },
  {
   "cell_type": "code",
   "execution_count": 26,
   "id": "7bb58224",
   "metadata": {},
   "outputs": [
    {
     "data": {
      "text/plain": [
       "dict_items([(101, [1, 3, '14-03-2020', '25-03-2020', 'Area1', 'Area6', 'Delivered', 198]), (102, [4, 1, '18-06-2020', '09-07-2020', 'Area2', 'Area4', 'Delivered', 275]), (103, [2, 3, '01-12-2020', 'Null', 'Area5', 'Area1', 'In-Transit', 200]), (104, [1, 5, '23-06-2020', '25-06-2020', 'Area1', 'Area4', 'Delivered', 314]), (105, [3, 4, '29-08-2020', '10-09-2020', 'Area5', 'Area3', 'Delivered', 275]), (106, [5, 2, '28-06-2020', 'Null', 'Area3', 'Area1', 'In-Transit', 270])])"
      ]
     },
     "execution_count": 26,
     "metadata": {},
     "output_type": "execute_result"
    }
   ],
   "source": [
    "shipment.items()"
   ]
  },
  {
   "cell_type": "code",
   "execution_count": 46,
   "id": "3d051851",
   "metadata": {},
   "outputs": [
    {
     "ename": "AttributeError",
     "evalue": "'list' object has no attribute 'items'",
     "output_type": "error",
     "traceback": [
      "\u001b[1;31m---------------------------------------------------------------------------\u001b[0m",
      "\u001b[1;31mAttributeError\u001b[0m                            Traceback (most recent call last)",
      "\u001b[1;32m<ipython-input-46-be15d76b5fba>\u001b[0m in \u001b[0;36m<module>\u001b[1;34m\u001b[0m\n\u001b[1;32m----> 1\u001b[1;33m \u001b[0mresult\u001b[0m \u001b[1;33m=\u001b[0m \u001b[1;33m{\u001b[0m\u001b[0mkey\u001b[0m \u001b[1;33m:\u001b[0m \u001b[1;33m{\u001b[0m\u001b[0mk\u001b[0m\u001b[1;33m:\u001b[0m \u001b[0mshipment\u001b[0m\u001b[1;33m[\u001b[0m\u001b[0mv\u001b[0m\u001b[1;33m]\u001b[0m \u001b[1;32mif\u001b[0m \u001b[0mv\u001b[0m\u001b[1;33m[\u001b[0m\u001b[1;36m0\u001b[0m\u001b[1;33m]\u001b[0m \u001b[1;32min\u001b[0m \u001b[0mclient_info\u001b[0m \u001b[1;32melse\u001b[0m \u001b[0mv\u001b[0m \u001b[1;32mfor\u001b[0m \u001b[0mk\u001b[0m\u001b[1;33m,\u001b[0m\u001b[0mv\u001b[0m \u001b[1;32min\u001b[0m \u001b[0mvalue\u001b[0m\u001b[1;33m.\u001b[0m\u001b[0mitems\u001b[0m\u001b[1;33m(\u001b[0m\u001b[1;33m)\u001b[0m\u001b[1;33m}\u001b[0m\u001b[1;32mfor\u001b[0m \u001b[0mkey\u001b[0m\u001b[1;33m,\u001b[0m\u001b[0mvalue\u001b[0m \u001b[1;32min\u001b[0m \u001b[0mshipment\u001b[0m\u001b[1;33m.\u001b[0m\u001b[0mitems\u001b[0m\u001b[1;33m(\u001b[0m\u001b[1;33m)\u001b[0m\u001b[1;33m}\u001b[0m\u001b[1;33m\u001b[0m\u001b[1;33m\u001b[0m\u001b[0m\n\u001b[0m\u001b[0;32m      2\u001b[0m \u001b[0mresult\u001b[0m\u001b[1;33m\u001b[0m\u001b[1;33m\u001b[0m\u001b[0m\n",
      "\u001b[1;32m<ipython-input-46-be15d76b5fba>\u001b[0m in \u001b[0;36m<dictcomp>\u001b[1;34m(.0)\u001b[0m\n\u001b[1;32m----> 1\u001b[1;33m \u001b[0mresult\u001b[0m \u001b[1;33m=\u001b[0m \u001b[1;33m{\u001b[0m\u001b[0mkey\u001b[0m \u001b[1;33m:\u001b[0m \u001b[1;33m{\u001b[0m\u001b[0mk\u001b[0m\u001b[1;33m:\u001b[0m \u001b[0mshipment\u001b[0m\u001b[1;33m[\u001b[0m\u001b[0mv\u001b[0m\u001b[1;33m]\u001b[0m \u001b[1;32mif\u001b[0m \u001b[0mv\u001b[0m\u001b[1;33m[\u001b[0m\u001b[1;36m0\u001b[0m\u001b[1;33m]\u001b[0m \u001b[1;32min\u001b[0m \u001b[0mclient_info\u001b[0m \u001b[1;32melse\u001b[0m \u001b[0mv\u001b[0m \u001b[1;32mfor\u001b[0m \u001b[0mk\u001b[0m\u001b[1;33m,\u001b[0m\u001b[0mv\u001b[0m \u001b[1;32min\u001b[0m \u001b[0mvalue\u001b[0m\u001b[1;33m.\u001b[0m\u001b[0mitems\u001b[0m\u001b[1;33m(\u001b[0m\u001b[1;33m)\u001b[0m\u001b[1;33m}\u001b[0m\u001b[1;32mfor\u001b[0m \u001b[0mkey\u001b[0m\u001b[1;33m,\u001b[0m\u001b[0mvalue\u001b[0m \u001b[1;32min\u001b[0m \u001b[0mshipment\u001b[0m\u001b[1;33m.\u001b[0m\u001b[0mitems\u001b[0m\u001b[1;33m(\u001b[0m\u001b[1;33m)\u001b[0m\u001b[1;33m}\u001b[0m\u001b[1;33m\u001b[0m\u001b[1;33m\u001b[0m\u001b[0m\n\u001b[0m\u001b[0;32m      2\u001b[0m \u001b[0mresult\u001b[0m\u001b[1;33m\u001b[0m\u001b[1;33m\u001b[0m\u001b[0m\n",
      "\u001b[1;31mAttributeError\u001b[0m: 'list' object has no attribute 'items'"
     ]
    }
   ],
   "source": [
    "result = {key : {k: shipment[v] if v[0] in client_info else v for k,v in value.items()}for key,value in shipment.items()}\n",
    "result"
   ]
  },
  {
   "cell_type": "code",
   "execution_count": 32,
   "id": "b69cac56",
   "metadata": {},
   "outputs": [
    {
     "ename": "NameError",
     "evalue": "name 'value' is not defined",
     "output_type": "error",
     "traceback": [
      "\u001b[1;31m---------------------------------------------------------------------------\u001b[0m",
      "\u001b[1;31mNameError\u001b[0m                                 Traceback (most recent call last)",
      "\u001b[1;32m<ipython-input-32-c173e69e6568>\u001b[0m in \u001b[0;36m<module>\u001b[1;34m\u001b[0m\n\u001b[1;32m----> 1\u001b[1;33m \u001b[1;33m{\u001b[0m\u001b[0mk\u001b[0m\u001b[1;33m:\u001b[0m \u001b[0md2\u001b[0m\u001b[1;33m[\u001b[0m\u001b[0mv\u001b[0m\u001b[1;33m]\u001b[0m \u001b[1;32mif\u001b[0m \u001b[0mk\u001b[0m \u001b[1;32min\u001b[0m \u001b[1;33m(\u001b[0m\u001b[1;34m'sender'\u001b[0m\u001b[1;33m,\u001b[0m\u001b[1;34m'receiver'\u001b[0m\u001b[1;33m)\u001b[0m \u001b[1;32melse\u001b[0m \u001b[0mv\u001b[0m \u001b[1;32mfor\u001b[0m \u001b[0mk\u001b[0m\u001b[1;33m,\u001b[0m\u001b[0mv\u001b[0m \u001b[1;32min\u001b[0m \u001b[0mvalue\u001b[0m\u001b[1;33m.\u001b[0m\u001b[0mitems\u001b[0m\u001b[1;33m(\u001b[0m\u001b[1;33m)\u001b[0m\u001b[1;33m}\u001b[0m\u001b[1;33m\u001b[0m\u001b[1;33m\u001b[0m\u001b[0m\n\u001b[0m",
      "\u001b[1;31mNameError\u001b[0m: name 'value' is not defined"
     ]
    }
   ],
   "source": [
    "{k: d2[v] if k in ('sender','receiver') else v for k,v in value.items()}"
   ]
  },
  {
   "cell_type": "markdown",
   "id": "41702a80",
   "metadata": {},
   "source": [
    "# Q4. Print all shipment details that are sent by Phillip"
   ]
  },
  {
   "cell_type": "code",
   "execution_count": 172,
   "id": "29d60267",
   "metadata": {},
   "outputs": [
    {
     "name": "stdout",
     "output_type": "stream",
     "text": [
      "{101: ['Phillip', 'Ramya', '14-03-2020', '25-03-2020', 'Area1', 'Area6', 'Delivered', 198], 102: ['Romesh', 'Phillip', '18-06-2020', '09-07-2020', 'Area2', 'Area4', 'Delivered', 275], 103: ['Omega III', 'Ramya', '01-12-2020', 'Null', 'Area5', 'Area1', 'In-Transit', 200], 104: ['Phillip', 'John', '23-06-2020', '25-06-2020', 'Area1', 'Area4', 'Delivered', 314], 105: ['Ramya', 'Romesh', '29-08-2020', '10-09-2020', 'Area5', 'Area3', 'Delivered', 275], 106: ['John', 'Omega III', '28-06-2020', 'Null', 'Area3', 'Area1', 'In-Transit', 270]}\n"
     ]
    }
   ],
   "source": [
    "print(shipment)"
   ]
  },
  {
   "cell_type": "code",
   "execution_count": 6,
   "id": "417ea458",
   "metadata": {},
   "outputs": [
    {
     "name": "stdout",
     "output_type": "stream",
     "text": [
      "Shipment sent by Phillip (shipment_id)  101  is :  ['Phillip', 'Ramya', '14-03-2020', '25-03-2020', 'Area1', 'Area6', 'Delivered', 198]\n",
      "Shipment sent by Phillip (shipment_id)  104  is :  ['Phillip', 'John', '23-06-2020', '25-06-2020', 'Area1', 'Area4', 'Delivered', 314]\n"
     ]
    }
   ],
   "source": [
    "for i in range(101,107):\n",
    "    if shipment[i][0] == \"Phillip\":\n",
    "        print(\"Shipment sent by Phillip (shipment_id) \",i,\" is : \",shipment[i])"
   ]
  },
  {
   "cell_type": "markdown",
   "id": "989c0b94",
   "metadata": {},
   "source": [
    "# Q5. Print all shipment details that are received by Ramya"
   ]
  },
  {
   "cell_type": "code",
   "execution_count": 7,
   "id": "ef0d83c4",
   "metadata": {},
   "outputs": [
    {
     "name": "stdout",
     "output_type": "stream",
     "text": [
      "Shipment received by Phillip (shipment_id)  101  is :  ['Phillip', 'Ramya', '14-03-2020', '25-03-2020', 'Area1', 'Area6', 'Delivered', 198]\n",
      "Shipment received by Phillip (shipment_id)  103  is :  ['Omega III', 'Ramya', '01-12-2020', 'Null', 'Area5', 'Area1', 'In-Transit', 200]\n"
     ]
    }
   ],
   "source": [
    "for i in range(101,107):\n",
    "    if shipment[i][1] == 'Ramya':\n",
    "        print(\"Shipment received by Phillip (shipment_id) \",i,\" is : \",shipment[i])"
   ]
  },
  {
   "cell_type": "markdown",
   "id": "e7b6dcdb",
   "metadata": {},
   "source": [
    "# Q6. Print all shipments which are in 'In-Transit' status"
   ]
  },
  {
   "cell_type": "code",
   "execution_count": 8,
   "id": "f15d0639",
   "metadata": {},
   "outputs": [
    {
     "name": "stdout",
     "output_type": "stream",
     "text": [
      "Shipment details in -tansit (shipment_id- 103 ) is :  ['Omega III', 'Ramya', '01-12-2020', 'Null', 'Area5', 'Area1', 'In-Transit', 200]\n",
      "Shipment details in -tansit (shipment_id- 106 ) is :  ['John', 'Omega III', '28-06-2020', 'Null', 'Area3', 'Area1', 'In-Transit', 270]\n"
     ]
    }
   ],
   "source": [
    "for i in range(101,107):\n",
    "    if shipment[i][6]=='In-Transit':\n",
    "        print(\"Shipment details in -tansit (shipment_id-\",i,\") is : \",shipment[i])"
   ]
  },
  {
   "cell_type": "markdown",
   "id": "345daaaf",
   "metadata": {},
   "source": [
    "## Q-7 Print all shipments which are delivered within 7 days of courier Start date"
   ]
  },
  {
   "cell_type": "code",
   "execution_count": 10,
   "id": "b9c68563",
   "metadata": {},
   "outputs": [
    {
     "name": "stdout",
     "output_type": "stream",
     "text": [
      "No. of days shipment id  101 :  11\n",
      "No. of days shipment id  102 :  21\n",
      "No. of days shipment id  103 : NOT DELIVERED\n",
      "No. of days shipment id  104 :  2\n",
      "values of shipment in which delivery time is with 7 days\n",
      " ['Phillip', 'John', '23-06-2020', '25-06-2020', 'Area1', 'Area4', 'Delivered', 314]\n",
      "\n",
      "No. of days shipment id  105 :  11\n",
      "No. of days shipment id  106 : NOT DELIVERED\n"
     ]
    }
   ],
   "source": [
    "for i in range(101,107):\n",
    "    if shipment[i][3] != 'Null':\n",
    "        if shipment[i][2].split('-')[1]== shipment[i][3].split('-')[1]:\n",
    "            a = int(shipment[i][3].split('-')[0])-int(shipment[i][2].split('-')[0])\n",
    "            print(\"No. of days shipment id \",i,\": \",a)\n",
    "            if a<=7:\n",
    "                print(\"values of shipment in which delivery time is with 7 days\\n\",shipment[i])\n",
    "                print()\n",
    "        else:\n",
    "            b = 30-int(shipment[i][2].split('-')[0])+int(shipment[i][3].split('-')[0])\n",
    "            print(\"No. of days shipment id \",i,\": \",b)\n",
    "            if b<=7:\n",
    "                print(\"values of shipment in which delivery time is within 7 days \\n\",shipment[i])\n",
    "                print()\n",
    "    else :\n",
    "        print(\"No. of days shipment id \",i,\": NOT DELIVERED\")\n"
   ]
  },
  {
   "cell_type": "markdown",
   "id": "9231bf2f",
   "metadata": {},
   "source": [
    "## Q8. Print all shipments which are delivered after 15 days of courier start date or not yet been delivered."
   ]
  },
  {
   "cell_type": "code",
   "execution_count": 211,
   "id": "12da9b68",
   "metadata": {},
   "outputs": [
    {
     "name": "stdout",
     "output_type": "stream",
     "text": [
      "No. of days shipment id  102 :  21\n",
      "shipment delivery after 15 days :  ['Romesh', 'Phillip', '18-06-2020', '09-07-2020', 'Area2', 'Area4', 'Delivered', 275]\n",
      "\n",
      "No. of days shipment id  103 : NOT DELIVERED\n",
      "['Omega III', 'Ramya', '01-12-2020', 'Null', 'Area5', 'Area1', 'In-Transit', 200]\n",
      "\n",
      "No. of days shipment id  106 : NOT DELIVERED\n",
      "['John', 'Omega III', '28-06-2020', 'Null', 'Area3', 'Area1', 'In-Transit', 270]\n",
      "\n"
     ]
    }
   ],
   "source": [
    "for i in range(101,107):\n",
    "    if shipment[i][3] != 'Null':\n",
    "        if shipment[i][2].split('-')[1]== shipment[i][3].split('-')[1]:\n",
    "            a = int(shipment[i][3].split('-')[0])-int(shipment[i][2].split('-')[0])\n",
    "            if a>=15:\n",
    "                print(\"No. of days shipment id \",i,\": \",a)\n",
    "                print(\"shipment delivery after 15 days : \",shipment[i])\n",
    "                print()\n",
    "        else:\n",
    "            b = 30-int(shipment[i][2].split('-')[0])+int(shipment[i][3].split('-')[0])\n",
    "            if b>=15:\n",
    "                print(\"No. of days shipment id \",i,\": \",b)\n",
    "                print(\"shipment delivery after 15 days : \",shipment[i])\n",
    "                print()\n",
    "    else :\n",
    "        print(\"No. of days shipment id \",i,\": NOT DELIVERED\")\n",
    "        print(shipment[i])\n",
    "        print()\n"
   ]
  },
  {
   "cell_type": "markdown",
   "id": "9bae1cba",
   "metadata": {},
   "source": [
    "## Q 9. Write a function find_all_routes to display all possible routes from senders location to receivers location given in the dictionary for each shipment.¶"
   ]
  },
  {
   "cell_type": "code",
   "execution_count": 24,
   "id": "b5e23625",
   "metadata": {},
   "outputs": [],
   "source": [
    "def find_all_routes(matrix,a,e,visited,path):\n",
    "    visited[a] = True\n",
    "    path.append(a+1)\n",
    "    if a==e:\n",
    "        print(path)\n",
    "    else:\n",
    "        for i in range(6):\n",
    "            if matrix[a][i] == 1 and (visited[i]==False):\n",
    "                find_all_routes(matrix,i,e,visited,path)\n",
    "    path.pop()\n",
    "    visited[a]=False\n",
    "\n",
    "\n",
    "matrix = [[0,1,0,0,0,1],[1,0,1,1,0,0],[0,1,0,1,0,0],[0,1,0,1,0,0],[0,1,1,0,1,0],[0,0,0,1,0,0],[1,0,0,0,0,0]]\n",
    "visited = [False for i in range(6)]\n",
    "path = []\n",
    "\n",
    "# Step -2 \n",
    "def show_all(shipments):\n",
    "    for i in shipments:\n",
    "        print('Shipments id ',i)\n",
    "        s = int(shipments[i][4][-1])\n",
    "        print(\"Sender's Location \",s)\n",
    "        r = int(shipment[i][5][-1])\n",
    "        print(\"Receiver's Location\",r)\n",
    "        print('All Possible Routes : ')\n",
    "        find_all_routes(matrix,s-1,r-1,visited,path)\n",
    "        print('-------------------------')\n"
   ]
  },
  {
   "cell_type": "code",
   "execution_count": 25,
   "id": "443c1ab6",
   "metadata": {},
   "outputs": [
    {
     "name": "stdout",
     "output_type": "stream",
     "text": [
      "Shipments id  101\n",
      "Sender's Location  1\n",
      "Receiver's Location 6\n",
      "All Possible Routes : \n",
      "[1, 6]\n",
      "-------------------------\n",
      "Shipments id  102\n",
      "Sender's Location  2\n",
      "Receiver's Location 4\n",
      "All Possible Routes : \n",
      "[2, 1, 6, 4]\n",
      "[2, 3, 4]\n",
      "[2, 4]\n",
      "-------------------------\n",
      "Shipments id  103\n",
      "Sender's Location  5\n",
      "Receiver's Location 1\n",
      "All Possible Routes : \n",
      "[5, 2, 1]\n",
      "[5, 3, 2, 1]\n",
      "[5, 3, 4, 2, 1]\n",
      "-------------------------\n",
      "Shipments id  104\n",
      "Sender's Location  1\n",
      "Receiver's Location 4\n",
      "All Possible Routes : \n",
      "[1, 2, 3, 4]\n",
      "[1, 2, 4]\n",
      "[1, 6, 4]\n",
      "-------------------------\n",
      "Shipments id  105\n",
      "Sender's Location  5\n",
      "Receiver's Location 3\n",
      "All Possible Routes : \n",
      "[5, 2, 3]\n",
      "[5, 3]\n",
      "-------------------------\n",
      "Shipments id  106\n",
      "Sender's Location  3\n",
      "Receiver's Location 1\n",
      "All Possible Routes : \n",
      "[3, 2, 1]\n",
      "[3, 4, 2, 1]\n",
      "-------------------------\n"
     ]
    }
   ],
   "source": [
    "show_all(shipment)"
   ]
  },
  {
   "cell_type": "code",
   "execution_count": null,
   "id": "bab7758f",
   "metadata": {},
   "outputs": [],
   "source": []
  }
 ],
 "metadata": {
  "kernelspec": {
   "display_name": "Python 3",
   "language": "python",
   "name": "python3"
  },
  "language_info": {
   "codemirror_mode": {
    "name": "ipython",
    "version": 3
   },
   "file_extension": ".py",
   "mimetype": "text/x-python",
   "name": "python",
   "nbconvert_exporter": "python",
   "pygments_lexer": "ipython3",
   "version": "3.8.8"
  }
 },
 "nbformat": 4,
 "nbformat_minor": 5
}
